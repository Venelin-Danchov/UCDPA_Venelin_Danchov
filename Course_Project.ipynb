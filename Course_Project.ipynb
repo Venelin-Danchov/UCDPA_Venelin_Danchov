{
 "cells": [
  {
   "cell_type": "code",
   "execution_count": 1,
   "id": "5bfd3772-31d4-40f8-beca-ea79dd60ea8f",
   "metadata": {
    "tags": []
   },
   "outputs": [],
   "source": [
    "import pandas as pd"
   ]
  },
  {
   "cell_type": "code",
   "execution_count": 2,
   "id": "94dc6025-e58a-4f8b-95a7-28851e5b8f28",
   "metadata": {
    "tags": []
   },
   "outputs": [],
   "source": [
    "import numpy as np"
   ]
  },
  {
   "cell_type": "code",
   "execution_count": 50,
   "id": "14d2b0ec-e4c1-458e-86b3-24f3cb4463ac",
   "metadata": {},
   "outputs": [],
   "source": [
    "from datetime import date"
   ]
  },
  {
   "cell_type": "code",
   "execution_count": 3,
   "id": "5685ff93-5427-4fc2-88b2-740e71600c91",
   "metadata": {},
   "outputs": [
    {
     "name": "stderr",
     "output_type": "stream",
     "text": [
      "Matplotlib is building the font cache; this may take a moment.\n"
     ]
    }
   ],
   "source": [
    "import matplotlib.pyplot as plt"
   ]
  },
  {
   "cell_type": "code",
   "execution_count": 4,
   "id": "e7810d8b-8de7-438b-8b8e-dbc79e538499",
   "metadata": {
    "tags": []
   },
   "outputs": [],
   "source": [
    "import seaborn as sns"
   ]
  },
  {
   "cell_type": "code",
   "execution_count": 12,
   "id": "700999f6-ea40-4cee-a539-2708c1ae2a25",
   "metadata": {
    "tags": []
   },
   "outputs": [],
   "source": [
    "SP500 = pd.read_csv('constituents-financials.csv', na_values='n/a')"
   ]
  },
  {
   "cell_type": "code",
   "execution_count": 69,
   "id": "7cf9d50b-466a-4264-9f5e-7da92834fdab",
   "metadata": {},
   "outputs": [],
   "source": [
    "Prices = pd.read_csv('all_stocks_5yr.csv', parse_dates=['date'], na_values='n/a')"
   ]
  },
  {
   "cell_type": "code",
   "execution_count": 70,
   "id": "7fff4899-f748-4960-86c1-a0690a685c83",
   "metadata": {},
   "outputs": [
    {
     "name": "stdout",
     "output_type": "stream",
     "text": [
      "  Symbol                 Name                  Sector   Price  Price/Earnings  \\\n",
      "0    MMM           3M Company             Industrials  222.89           24.31   \n",
      "1    AOS      A.O. Smith Corp             Industrials   60.24           27.76   \n",
      "2    ABT  Abbott Laboratories             Health Care   56.27           22.51   \n",
      "3   ABBV          AbbVie Inc.             Health Care  108.48           19.41   \n",
      "4    ACN        Accenture plc  Information Technology  150.51           25.47   \n",
      "\n",
      "   Dividend Yield  Earnings/Share  52 Week Low  52 Week High    Market Cap  \\\n",
      "0        2.332862            7.92       259.77       175.490  138721055226   \n",
      "1        1.147959            1.70        68.39        48.925   10783419933   \n",
      "2        1.908982            0.26        64.60        42.280  102121042306   \n",
      "3        2.499560            3.29       125.86        60.050  181386347059   \n",
      "4        1.714470            5.44       162.60       114.820   98765855553   \n",
      "\n",
      "   Price/Sales  Price/Book  \n",
      "0     4.390271       11.34  \n",
      "1     3.575483        6.35  \n",
      "2     3.740480        3.19  \n",
      "3     6.291571       26.14  \n",
      "4     2.604117       10.62  \n"
     ]
    }
   ],
   "source": [
    "print(SP500.head())"
   ]
  },
  {
   "cell_type": "code",
   "execution_count": 71,
   "id": "f0c5c8d6-6171-4a20-b0a4-a5fccdb14157",
   "metadata": {},
   "outputs": [
    {
     "name": "stdout",
     "output_type": "stream",
     "text": [
      "        date   open   high    low  close    volume Name\n",
      "0 2013-02-08  15.07  15.12  14.63  14.75   8407500  AAL\n",
      "1 2013-02-11  14.89  15.01  14.26  14.46   8882000  AAL\n",
      "2 2013-02-12  14.45  14.51  14.10  14.27   8126000  AAL\n",
      "3 2013-02-13  14.30  14.94  14.25  14.66  10259500  AAL\n",
      "4 2013-02-14  14.94  14.96  13.16  13.99  31879900  AAL\n"
     ]
    }
   ],
   "source": [
    "print(Prices.head())"
   ]
  },
  {
   "cell_type": "code",
   "execution_count": 22,
   "id": "5a23bb2a-898c-4fa1-b285-175c43a81e23",
   "metadata": {},
   "outputs": [],
   "source": [
    "SP500_sort=SP500.sort_values('Market Cap', ascending=False)"
   ]
  },
  {
   "cell_type": "code",
   "execution_count": 30,
   "id": "c1751e5e-f825-4abf-99bd-0a5563dcd011",
   "metadata": {},
   "outputs": [],
   "source": [
    "new_SP500 = SP500_sort.drop(['SEC Filings', 'EBITDA'], axis='columns')"
   ]
  },
  {
   "cell_type": "code",
   "execution_count": 31,
   "id": "b191dcda-bc3c-4d23-9a3f-6961f8000a0d",
   "metadata": {},
   "outputs": [
    {
     "name": "stdout",
     "output_type": "stream",
     "text": [
      "    Symbol                  Name                  Sector    Price  \\\n",
      "51    AAPL            Apple Inc.  Information Technology   155.15   \n",
      "27   GOOGL  Alphabet Inc Class A  Information Technology  1007.71   \n",
      "28    GOOG  Alphabet Inc Class C  Information Technology  1001.52   \n",
      "311   MSFT       Microsoft Corp.  Information Technology    85.01   \n",
      "30    AMZN        Amazon.com Inc  Consumer Discretionary  1350.50   \n",
      "\n",
      "     Price/Earnings  Dividend Yield  Earnings/Share  52 Week Low  \\\n",
      "51            16.86        1.579541            9.20       180.10   \n",
      "27            31.48        0.000000           22.27      1198.00   \n",
      "28            40.29        0.000000           22.27      1186.89   \n",
      "311           25.76        1.874791            2.97        96.07   \n",
      "30           296.16        0.000000            6.16      1498.00   \n",
      "\n",
      "     52 Week High    Market Cap  Price/Sales  Price/Book  \n",
      "51       131.1200  809508034020     3.458609        5.66  \n",
      "27       824.3000  733823966137     6.801692        4.70  \n",
      "28       803.1903  728535558140     6.772653        4.67  \n",
      "311       63.2200  689978437468     7.113097        9.49  \n",
      "30       812.5000  685873374731     3.927053       24.28  \n"
     ]
    }
   ],
   "source": [
    "print(new_SP500.head())"
   ]
  },
  {
   "cell_type": "code",
   "execution_count": 65,
   "id": "3106d1b8-3bb2-4775-a05b-416e098ba2e6",
   "metadata": {},
   "outputs": [
    {
     "data": {
      "text/plain": [
       "Symbol               0\n",
       "Name                 0\n",
       "Sector               0\n",
       "Price                0\n",
       "Price/Earnings       2\n",
       "Dividend Yield       0\n",
       "Earnings/Share       0\n",
       "52 Week Low          0\n",
       "52 Week High         0\n",
       "Market Cap           0\n",
       "Price/Sales          0\n",
       "Price/Book           8\n",
       "Market Cap Median    0\n",
       "Market_Cap_Median    0\n",
       "dtype: int64"
      ]
     },
     "execution_count": 65,
     "metadata": {},
     "output_type": "execute_result"
    }
   ],
   "source": [
    "new_SP500.isna().sum()"
   ]
  },
  {
   "cell_type": "code",
   "execution_count": 68,
   "id": "1d3ee9dd-50b8-47fb-bf86-595cada20d4b",
   "metadata": {},
   "outputs": [
    {
     "data": {
      "text/html": [
       "<div>\n",
       "<style scoped>\n",
       "    .dataframe tbody tr th:only-of-type {\n",
       "        vertical-align: middle;\n",
       "    }\n",
       "\n",
       "    .dataframe tbody tr th {\n",
       "        vertical-align: top;\n",
       "    }\n",
       "\n",
       "    .dataframe thead th {\n",
       "        text-align: right;\n",
       "    }\n",
       "</style>\n",
       "<table border=\"1\" class=\"dataframe\">\n",
       "  <thead>\n",
       "    <tr style=\"text-align: right;\">\n",
       "      <th></th>\n",
       "      <th>Symbol</th>\n",
       "      <th>Name</th>\n",
       "      <th>Sector</th>\n",
       "      <th>Price</th>\n",
       "      <th>Price/Earnings</th>\n",
       "      <th>Dividend Yield</th>\n",
       "      <th>Earnings/Share</th>\n",
       "      <th>52 Week Low</th>\n",
       "      <th>52 Week High</th>\n",
       "      <th>Market Cap</th>\n",
       "      <th>Price/Sales</th>\n",
       "      <th>Price/Book</th>\n",
       "      <th>Market Cap Median</th>\n",
       "      <th>Market_Cap_Median</th>\n",
       "    </tr>\n",
       "  </thead>\n",
       "  <tbody>\n",
       "    <tr>\n",
       "      <th>51</th>\n",
       "      <td>AAPL</td>\n",
       "      <td>Apple Inc.</td>\n",
       "      <td>Information Technology</td>\n",
       "      <td>155.15</td>\n",
       "      <td>16.86</td>\n",
       "      <td>1.579541</td>\n",
       "      <td>9.20</td>\n",
       "      <td>180.100</td>\n",
       "      <td>131.1200</td>\n",
       "      <td>809508034020</td>\n",
       "      <td>3.458609</td>\n",
       "      <td>5.66</td>\n",
       "      <td>809508.034020</td>\n",
       "      <td>809508.034020</td>\n",
       "    </tr>\n",
       "    <tr>\n",
       "      <th>27</th>\n",
       "      <td>GOOGL</td>\n",
       "      <td>Alphabet Inc Class A</td>\n",
       "      <td>Information Technology</td>\n",
       "      <td>1007.71</td>\n",
       "      <td>31.48</td>\n",
       "      <td>0.000000</td>\n",
       "      <td>22.27</td>\n",
       "      <td>1198.000</td>\n",
       "      <td>824.3000</td>\n",
       "      <td>733823966137</td>\n",
       "      <td>6.801692</td>\n",
       "      <td>4.70</td>\n",
       "      <td>733823.966137</td>\n",
       "      <td>733823.966137</td>\n",
       "    </tr>\n",
       "    <tr>\n",
       "      <th>28</th>\n",
       "      <td>GOOG</td>\n",
       "      <td>Alphabet Inc Class C</td>\n",
       "      <td>Information Technology</td>\n",
       "      <td>1001.52</td>\n",
       "      <td>40.29</td>\n",
       "      <td>0.000000</td>\n",
       "      <td>22.27</td>\n",
       "      <td>1186.890</td>\n",
       "      <td>803.1903</td>\n",
       "      <td>728535558140</td>\n",
       "      <td>6.772653</td>\n",
       "      <td>4.67</td>\n",
       "      <td>728535.558140</td>\n",
       "      <td>728535.558140</td>\n",
       "    </tr>\n",
       "    <tr>\n",
       "      <th>311</th>\n",
       "      <td>MSFT</td>\n",
       "      <td>Microsoft Corp.</td>\n",
       "      <td>Information Technology</td>\n",
       "      <td>85.01</td>\n",
       "      <td>25.76</td>\n",
       "      <td>1.874791</td>\n",
       "      <td>2.97</td>\n",
       "      <td>96.070</td>\n",
       "      <td>63.2200</td>\n",
       "      <td>689978437468</td>\n",
       "      <td>7.113097</td>\n",
       "      <td>9.49</td>\n",
       "      <td>689978.437468</td>\n",
       "      <td>689978.437468</td>\n",
       "    </tr>\n",
       "    <tr>\n",
       "      <th>30</th>\n",
       "      <td>AMZN</td>\n",
       "      <td>Amazon.com Inc</td>\n",
       "      <td>Consumer Discretionary</td>\n",
       "      <td>1350.50</td>\n",
       "      <td>296.16</td>\n",
       "      <td>0.000000</td>\n",
       "      <td>6.16</td>\n",
       "      <td>1498.000</td>\n",
       "      <td>812.5000</td>\n",
       "      <td>685873374731</td>\n",
       "      <td>3.927053</td>\n",
       "      <td>24.28</td>\n",
       "      <td>685873.374731</td>\n",
       "      <td>685873.374731</td>\n",
       "    </tr>\n",
       "    <tr>\n",
       "      <th>...</th>\n",
       "      <td>...</td>\n",
       "      <td>...</td>\n",
       "      <td>...</td>\n",
       "      <td>...</td>\n",
       "      <td>...</td>\n",
       "      <td>...</td>\n",
       "      <td>...</td>\n",
       "      <td>...</td>\n",
       "      <td>...</td>\n",
       "      <td>...</td>\n",
       "      <td>...</td>\n",
       "      <td>...</td>\n",
       "      <td>...</td>\n",
       "      <td>...</td>\n",
       "    </tr>\n",
       "    <tr>\n",
       "      <th>324</th>\n",
       "      <td>NAVI</td>\n",
       "      <td>Navient</td>\n",
       "      <td>Financials</td>\n",
       "      <td>13.38</td>\n",
       "      <td>7.56</td>\n",
       "      <td>4.558404</td>\n",
       "      <td>1.01</td>\n",
       "      <td>16.970</td>\n",
       "      <td>11.4810</td>\n",
       "      <td>3692691330</td>\n",
       "      <td>0.698658</td>\n",
       "      <td>1.02</td>\n",
       "      <td>3692.691330</td>\n",
       "      <td>3692.691330</td>\n",
       "    </tr>\n",
       "    <tr>\n",
       "      <th>386</th>\n",
       "      <td>RRC</td>\n",
       "      <td>Range Resources Corp.</td>\n",
       "      <td>Energy</td>\n",
       "      <td>12.82</td>\n",
       "      <td>35.61</td>\n",
       "      <td>0.609756</td>\n",
       "      <td>-2.79</td>\n",
       "      <td>34.090</td>\n",
       "      <td>12.7000</td>\n",
       "      <td>3255587970</td>\n",
       "      <td>1.962434</td>\n",
       "      <td>0.59</td>\n",
       "      <td>3255.587970</td>\n",
       "      <td>3255.587970</td>\n",
       "    </tr>\n",
       "    <tr>\n",
       "      <th>353</th>\n",
       "      <td>PDCO</td>\n",
       "      <td>Patterson Companies</td>\n",
       "      <td>Health Care</td>\n",
       "      <td>32.88</td>\n",
       "      <td>14.05</td>\n",
       "      <td>3.072378</td>\n",
       "      <td>1.79</td>\n",
       "      <td>48.295</td>\n",
       "      <td>32.0700</td>\n",
       "      <td>3209792400</td>\n",
       "      <td>0.787279</td>\n",
       "      <td>2.34</td>\n",
       "      <td>3209.792400</td>\n",
       "      <td>3209.792400</td>\n",
       "    </tr>\n",
       "    <tr>\n",
       "      <th>412</th>\n",
       "      <td>SIG</td>\n",
       "      <td>Signet Jewelers</td>\n",
       "      <td>Consumer Discretionary</td>\n",
       "      <td>49.38</td>\n",
       "      <td>6.65</td>\n",
       "      <td>2.473075</td>\n",
       "      <td>7.03</td>\n",
       "      <td>77.940</td>\n",
       "      <td>46.0900</td>\n",
       "      <td>3034275549</td>\n",
       "      <td>0.756470</td>\n",
       "      <td>1.38</td>\n",
       "      <td>3034.275549</td>\n",
       "      <td>3034.275549</td>\n",
       "    </tr>\n",
       "    <tr>\n",
       "      <th>104</th>\n",
       "      <td>CHK</td>\n",
       "      <td>Chesapeake Energy</td>\n",
       "      <td>Energy</td>\n",
       "      <td>2.82</td>\n",
       "      <td>4.70</td>\n",
       "      <td>0.000000</td>\n",
       "      <td>-6.44</td>\n",
       "      <td>6.590</td>\n",
       "      <td>2.8000</td>\n",
       "      <td>2626102121</td>\n",
       "      <td>0.407652</td>\n",
       "      <td>1.84</td>\n",
       "      <td>2626.102121</td>\n",
       "      <td>2626.102121</td>\n",
       "    </tr>\n",
       "  </tbody>\n",
       "</table>\n",
       "<p>505 rows × 14 columns</p>\n",
       "</div>"
      ],
      "text/plain": [
       "    Symbol                   Name                  Sector    Price  \\\n",
       "51    AAPL             Apple Inc.  Information Technology   155.15   \n",
       "27   GOOGL   Alphabet Inc Class A  Information Technology  1007.71   \n",
       "28    GOOG   Alphabet Inc Class C  Information Technology  1001.52   \n",
       "311   MSFT        Microsoft Corp.  Information Technology    85.01   \n",
       "30    AMZN         Amazon.com Inc  Consumer Discretionary  1350.50   \n",
       "..     ...                    ...                     ...      ...   \n",
       "324   NAVI                Navient              Financials    13.38   \n",
       "386    RRC  Range Resources Corp.                  Energy    12.82   \n",
       "353   PDCO    Patterson Companies             Health Care    32.88   \n",
       "412    SIG        Signet Jewelers  Consumer Discretionary    49.38   \n",
       "104    CHK      Chesapeake Energy                  Energy     2.82   \n",
       "\n",
       "     Price/Earnings  Dividend Yield  Earnings/Share  52 Week Low  \\\n",
       "51            16.86        1.579541            9.20      180.100   \n",
       "27            31.48        0.000000           22.27     1198.000   \n",
       "28            40.29        0.000000           22.27     1186.890   \n",
       "311           25.76        1.874791            2.97       96.070   \n",
       "30           296.16        0.000000            6.16     1498.000   \n",
       "..              ...             ...             ...          ...   \n",
       "324            7.56        4.558404            1.01       16.970   \n",
       "386           35.61        0.609756           -2.79       34.090   \n",
       "353           14.05        3.072378            1.79       48.295   \n",
       "412            6.65        2.473075            7.03       77.940   \n",
       "104            4.70        0.000000           -6.44        6.590   \n",
       "\n",
       "     52 Week High    Market Cap  Price/Sales  Price/Book  Market Cap Median  \\\n",
       "51       131.1200  809508034020     3.458609        5.66      809508.034020   \n",
       "27       824.3000  733823966137     6.801692        4.70      733823.966137   \n",
       "28       803.1903  728535558140     6.772653        4.67      728535.558140   \n",
       "311       63.2200  689978437468     7.113097        9.49      689978.437468   \n",
       "30       812.5000  685873374731     3.927053       24.28      685873.374731   \n",
       "..            ...           ...          ...         ...                ...   \n",
       "324       11.4810    3692691330     0.698658        1.02        3692.691330   \n",
       "386       12.7000    3255587970     1.962434        0.59        3255.587970   \n",
       "353       32.0700    3209792400     0.787279        2.34        3209.792400   \n",
       "412       46.0900    3034275549     0.756470        1.38        3034.275549   \n",
       "104        2.8000    2626102121     0.407652        1.84        2626.102121   \n",
       "\n",
       "     Market_Cap_Median  \n",
       "51       809508.034020  \n",
       "27       733823.966137  \n",
       "28       728535.558140  \n",
       "311      689978.437468  \n",
       "30       685873.374731  \n",
       "..                 ...  \n",
       "324        3692.691330  \n",
       "386        3255.587970  \n",
       "353        3209.792400  \n",
       "412        3034.275549  \n",
       "104        2626.102121  \n",
       "\n",
       "[505 rows x 14 columns]"
      ]
     },
     "execution_count": 68,
     "metadata": {},
     "output_type": "execute_result"
    }
   ],
   "source": [
    "new_SP500.fillna(0)"
   ]
  },
  {
   "cell_type": "code",
   "execution_count": 34,
   "id": "d8486c7e-bf3d-404c-915c-8c82ce5585c7",
   "metadata": {},
   "outputs": [],
   "source": [
    "new_SP500['Market_Cap_Median'] = new_SP500['Market Cap'].div(1e6)"
   ]
  },
  {
   "cell_type": "code",
   "execution_count": 67,
   "id": "ca987cd1-6068-4942-a5b8-6ef361e22ab2",
   "metadata": {},
   "outputs": [
    {
     "data": {
      "text/html": [
       "<div>\n",
       "<style scoped>\n",
       "    .dataframe tbody tr th:only-of-type {\n",
       "        vertical-align: middle;\n",
       "    }\n",
       "\n",
       "    .dataframe tbody tr th {\n",
       "        vertical-align: top;\n",
       "    }\n",
       "\n",
       "    .dataframe thead th {\n",
       "        text-align: right;\n",
       "    }\n",
       "</style>\n",
       "<table border=\"1\" class=\"dataframe\">\n",
       "  <thead>\n",
       "    <tr style=\"text-align: right;\">\n",
       "      <th></th>\n",
       "      <th>Symbol</th>\n",
       "      <th>Name</th>\n",
       "      <th>Sector</th>\n",
       "      <th>Price</th>\n",
       "      <th>Price/Earnings</th>\n",
       "      <th>Dividend Yield</th>\n",
       "      <th>Earnings/Share</th>\n",
       "      <th>52 Week Low</th>\n",
       "      <th>52 Week High</th>\n",
       "      <th>Market Cap</th>\n",
       "      <th>Price/Sales</th>\n",
       "      <th>Price/Book</th>\n",
       "      <th>Market_Cap_Median</th>\n",
       "    </tr>\n",
       "  </thead>\n",
       "  <tbody>\n",
       "    <tr>\n",
       "      <th>51</th>\n",
       "      <td>AAPL</td>\n",
       "      <td>Apple Inc.</td>\n",
       "      <td>Information Technology</td>\n",
       "      <td>155.15</td>\n",
       "      <td>16.86</td>\n",
       "      <td>1.579541</td>\n",
       "      <td>9.20</td>\n",
       "      <td>180.100</td>\n",
       "      <td>131.1200</td>\n",
       "      <td>809508034020</td>\n",
       "      <td>3.458609</td>\n",
       "      <td>5.66</td>\n",
       "      <td>809508.034020</td>\n",
       "    </tr>\n",
       "    <tr>\n",
       "      <th>27</th>\n",
       "      <td>GOOGL</td>\n",
       "      <td>Alphabet Inc Class A</td>\n",
       "      <td>Information Technology</td>\n",
       "      <td>1007.71</td>\n",
       "      <td>31.48</td>\n",
       "      <td>0.000000</td>\n",
       "      <td>22.27</td>\n",
       "      <td>1198.000</td>\n",
       "      <td>824.3000</td>\n",
       "      <td>733823966137</td>\n",
       "      <td>6.801692</td>\n",
       "      <td>4.70</td>\n",
       "      <td>733823.966137</td>\n",
       "    </tr>\n",
       "    <tr>\n",
       "      <th>28</th>\n",
       "      <td>GOOG</td>\n",
       "      <td>Alphabet Inc Class C</td>\n",
       "      <td>Information Technology</td>\n",
       "      <td>1001.52</td>\n",
       "      <td>40.29</td>\n",
       "      <td>0.000000</td>\n",
       "      <td>22.27</td>\n",
       "      <td>1186.890</td>\n",
       "      <td>803.1903</td>\n",
       "      <td>728535558140</td>\n",
       "      <td>6.772653</td>\n",
       "      <td>4.67</td>\n",
       "      <td>728535.558140</td>\n",
       "    </tr>\n",
       "    <tr>\n",
       "      <th>311</th>\n",
       "      <td>MSFT</td>\n",
       "      <td>Microsoft Corp.</td>\n",
       "      <td>Information Technology</td>\n",
       "      <td>85.01</td>\n",
       "      <td>25.76</td>\n",
       "      <td>1.874791</td>\n",
       "      <td>2.97</td>\n",
       "      <td>96.070</td>\n",
       "      <td>63.2200</td>\n",
       "      <td>689978437468</td>\n",
       "      <td>7.113097</td>\n",
       "      <td>9.49</td>\n",
       "      <td>689978.437468</td>\n",
       "    </tr>\n",
       "    <tr>\n",
       "      <th>30</th>\n",
       "      <td>AMZN</td>\n",
       "      <td>Amazon.com Inc</td>\n",
       "      <td>Consumer Discretionary</td>\n",
       "      <td>1350.50</td>\n",
       "      <td>296.16</td>\n",
       "      <td>0.000000</td>\n",
       "      <td>6.16</td>\n",
       "      <td>1498.000</td>\n",
       "      <td>812.5000</td>\n",
       "      <td>685873374731</td>\n",
       "      <td>3.927053</td>\n",
       "      <td>24.28</td>\n",
       "      <td>685873.374731</td>\n",
       "    </tr>\n",
       "    <tr>\n",
       "      <th>...</th>\n",
       "      <td>...</td>\n",
       "      <td>...</td>\n",
       "      <td>...</td>\n",
       "      <td>...</td>\n",
       "      <td>...</td>\n",
       "      <td>...</td>\n",
       "      <td>...</td>\n",
       "      <td>...</td>\n",
       "      <td>...</td>\n",
       "      <td>...</td>\n",
       "      <td>...</td>\n",
       "      <td>...</td>\n",
       "      <td>...</td>\n",
       "    </tr>\n",
       "    <tr>\n",
       "      <th>324</th>\n",
       "      <td>NAVI</td>\n",
       "      <td>Navient</td>\n",
       "      <td>Financials</td>\n",
       "      <td>13.38</td>\n",
       "      <td>7.56</td>\n",
       "      <td>4.558404</td>\n",
       "      <td>1.01</td>\n",
       "      <td>16.970</td>\n",
       "      <td>11.4810</td>\n",
       "      <td>3692691330</td>\n",
       "      <td>0.698658</td>\n",
       "      <td>1.02</td>\n",
       "      <td>3692.691330</td>\n",
       "    </tr>\n",
       "    <tr>\n",
       "      <th>386</th>\n",
       "      <td>RRC</td>\n",
       "      <td>Range Resources Corp.</td>\n",
       "      <td>Energy</td>\n",
       "      <td>12.82</td>\n",
       "      <td>35.61</td>\n",
       "      <td>0.609756</td>\n",
       "      <td>-2.79</td>\n",
       "      <td>34.090</td>\n",
       "      <td>12.7000</td>\n",
       "      <td>3255587970</td>\n",
       "      <td>1.962434</td>\n",
       "      <td>0.59</td>\n",
       "      <td>3255.587970</td>\n",
       "    </tr>\n",
       "    <tr>\n",
       "      <th>353</th>\n",
       "      <td>PDCO</td>\n",
       "      <td>Patterson Companies</td>\n",
       "      <td>Health Care</td>\n",
       "      <td>32.88</td>\n",
       "      <td>14.05</td>\n",
       "      <td>3.072378</td>\n",
       "      <td>1.79</td>\n",
       "      <td>48.295</td>\n",
       "      <td>32.0700</td>\n",
       "      <td>3209792400</td>\n",
       "      <td>0.787279</td>\n",
       "      <td>2.34</td>\n",
       "      <td>3209.792400</td>\n",
       "    </tr>\n",
       "    <tr>\n",
       "      <th>412</th>\n",
       "      <td>SIG</td>\n",
       "      <td>Signet Jewelers</td>\n",
       "      <td>Consumer Discretionary</td>\n",
       "      <td>49.38</td>\n",
       "      <td>6.65</td>\n",
       "      <td>2.473075</td>\n",
       "      <td>7.03</td>\n",
       "      <td>77.940</td>\n",
       "      <td>46.0900</td>\n",
       "      <td>3034275549</td>\n",
       "      <td>0.756470</td>\n",
       "      <td>1.38</td>\n",
       "      <td>3034.275549</td>\n",
       "    </tr>\n",
       "    <tr>\n",
       "      <th>104</th>\n",
       "      <td>CHK</td>\n",
       "      <td>Chesapeake Energy</td>\n",
       "      <td>Energy</td>\n",
       "      <td>2.82</td>\n",
       "      <td>4.70</td>\n",
       "      <td>0.000000</td>\n",
       "      <td>-6.44</td>\n",
       "      <td>6.590</td>\n",
       "      <td>2.8000</td>\n",
       "      <td>2626102121</td>\n",
       "      <td>0.407652</td>\n",
       "      <td>1.84</td>\n",
       "      <td>2626.102121</td>\n",
       "    </tr>\n",
       "  </tbody>\n",
       "</table>\n",
       "<p>505 rows × 13 columns</p>\n",
       "</div>"
      ],
      "text/plain": [
       "    Symbol                   Name                  Sector    Price  \\\n",
       "51    AAPL             Apple Inc.  Information Technology   155.15   \n",
       "27   GOOGL   Alphabet Inc Class A  Information Technology  1007.71   \n",
       "28    GOOG   Alphabet Inc Class C  Information Technology  1001.52   \n",
       "311   MSFT        Microsoft Corp.  Information Technology    85.01   \n",
       "30    AMZN         Amazon.com Inc  Consumer Discretionary  1350.50   \n",
       "..     ...                    ...                     ...      ...   \n",
       "324   NAVI                Navient              Financials    13.38   \n",
       "386    RRC  Range Resources Corp.                  Energy    12.82   \n",
       "353   PDCO    Patterson Companies             Health Care    32.88   \n",
       "412    SIG        Signet Jewelers  Consumer Discretionary    49.38   \n",
       "104    CHK      Chesapeake Energy                  Energy     2.82   \n",
       "\n",
       "     Price/Earnings  Dividend Yield  Earnings/Share  52 Week Low  \\\n",
       "51            16.86        1.579541            9.20      180.100   \n",
       "27            31.48        0.000000           22.27     1198.000   \n",
       "28            40.29        0.000000           22.27     1186.890   \n",
       "311           25.76        1.874791            2.97       96.070   \n",
       "30           296.16        0.000000            6.16     1498.000   \n",
       "..              ...             ...             ...          ...   \n",
       "324            7.56        4.558404            1.01       16.970   \n",
       "386           35.61        0.609756           -2.79       34.090   \n",
       "353           14.05        3.072378            1.79       48.295   \n",
       "412            6.65        2.473075            7.03       77.940   \n",
       "104            4.70        0.000000           -6.44        6.590   \n",
       "\n",
       "     52 Week High    Market Cap  Price/Sales  Price/Book  Market_Cap_Median  \n",
       "51       131.1200  809508034020     3.458609        5.66      809508.034020  \n",
       "27       824.3000  733823966137     6.801692        4.70      733823.966137  \n",
       "28       803.1903  728535558140     6.772653        4.67      728535.558140  \n",
       "311       63.2200  689978437468     7.113097        9.49      689978.437468  \n",
       "30       812.5000  685873374731     3.927053       24.28      685873.374731  \n",
       "..            ...           ...          ...         ...                ...  \n",
       "324       11.4810    3692691330     0.698658        1.02        3692.691330  \n",
       "386       12.7000    3255587970     1.962434        0.59        3255.587970  \n",
       "353       32.0700    3209792400     0.787279        2.34        3209.792400  \n",
       "412       46.0900    3034275549     0.756470        1.38        3034.275549  \n",
       "104        2.8000    2626102121     0.407652        1.84        2626.102121  \n",
       "\n",
       "[505 rows x 13 columns]"
      ]
     },
     "execution_count": 67,
     "metadata": {},
     "output_type": "execute_result"
    }
   ],
   "source": [
    "new_SP500.drop(['Market Cap Median'], axis='columns')"
   ]
  },
  {
   "cell_type": "code",
   "execution_count": 35,
   "id": "0b4052d9-0946-490a-b9d0-a3a0e761ff09",
   "metadata": {},
   "outputs": [],
   "source": [
    "mcap_by_sector = new_SP500.groupby('Sector')"
   ]
  },
  {
   "cell_type": "code",
   "execution_count": 36,
   "id": "7576b9b8-fa0f-406e-91b8-c61bf877b376",
   "metadata": {},
   "outputs": [],
   "source": [
    "median_mcap_by_sector = mcap_by_sector.Market_Cap_Median.median()"
   ]
  },
  {
   "cell_type": "code",
   "execution_count": 38,
   "id": "654e53b2-a679-4e9f-b4d8-ede176bde210",
   "metadata": {},
   "outputs": [
    {
     "data": {
      "image/png": "[encoded data removed]",
      "text/plain": [
       "<Figure size 432x288 with 1 Axes>"
      ]
     },
     "metadata": {
      "needs_background": "light"
     },
     "output_type": "display_data"
    }
   ],
   "source": [
    "median_mcap_by_sector.plot(kind='barh', title='SP500 - Median Market Capitalization')\n",
    "plt.xlabel('USD mn')\n",
    "plt.show()"
   ]
  },
  {
   "cell_type": "code",
   "execution_count": 40,
   "id": "f2c551b1-a9e2-47d2-91cd-f49e3b1d627a",
   "metadata": {},
   "outputs": [
    {
     "data": {
      "text/plain": [
       "'Insight: top 5 companies consist from companies in IT sector but overall the companies from Telecommunication Services show the largest market cap by far'"
      ]
     },
     "execution_count": 40,
     "metadata": {},
     "output_type": "execute_result"
    }
   ],
   "source": []
  },
  {
   "cell_type": "code",
   "execution_count": 45,
   "id": "68693a93-21a3-4272-8ec4-d9e183617d98",
   "metadata": {},
   "outputs": [],
   "source": [
    "new_SP500_top = new_SP500.iloc[0:6,0:7]"
   ]
  },
  {
   "cell_type": "code",
   "execution_count": 48,
   "id": "69b740c5-356f-4ebf-a3c6-a9b273064221",
   "metadata": {},
   "outputs": [
    {
     "data": {
      "image/png": "[encoded data removed]",
      "text/plain": [
       "<Figure size 432x288 with 1 Axes>"
      ]
     },
     "metadata": {
      "needs_background": "light"
     },
     "output_type": "display_data"
    }
   ],
   "source": [
    "new_SP500_top.plot(x='Name', y='Earnings/Share', kind='bar')\n",
    "plt.ylabel('Earnings per Share')\n",
    "plt.show()"
   ]
  },
  {
   "cell_type": "code",
   "execution_count": 58,
   "id": "07e04fc2-53fc-4d28-b25e-0790f7d6261f",
   "metadata": {},
   "outputs": [
    {
     "data": {
      "image/png": "[encoded data removed]",
      "text/plain": [
       "<Figure size 432x288 with 1 Axes>"
      ]
     },
     "metadata": {
      "needs_background": "light"
     },
     "output_type": "display_data"
    }
   ],
   "source": [
    "fig, ax = plt.subplots()\n",
    "ax.hist(new_SP500['Earnings/Share'], bins=10)\n",
    "ax.set_xlabel('Earning per Share (USD)')\n",
    "ax.set_ylabel('# of observations')\n",
    "plt.show()"
   ]
  },
  {
   "cell_type": "code",
   "execution_count": 73,
   "id": "39718f0b-5bb9-4c28-bb68-df0867428aba",
   "metadata": {},
   "outputs": [
    {
     "data": {
      "text/plain": [
       "'Insight: most of the companies distribute between 0-10 USD per share with few very profitable companies that give around 40 USD per share'"
      ]
     },
     "execution_count": 73,
     "metadata": {},
     "output_type": "execute_result"
    }
   ],
   "source": []
  },
  {
   "cell_type": "code",
   "execution_count": 78,
   "id": "ee647641-6aa6-4122-87ec-3442d3a0de2c",
   "metadata": {},
   "outputs": [],
   "source": [
    "price_open = Prices.loc[:, 'open'].median()"
   ]
  },
  {
   "cell_type": "code",
   "execution_count": 79,
   "id": "7bb16e10-870c-44cc-8d76-d0085c20749c",
   "metadata": {},
   "outputs": [],
   "source": [
    "price_close = Prices.loc[:, 'close'].median()"
   ]
  },
  {
   "cell_type": "code",
   "execution_count": 80,
   "id": "46eabb0b-744a-46c6-a5f2-1a1b32e8aa38",
   "metadata": {},
   "outputs": [
    {
     "name": "stdout",
     "output_type": "stream",
     "text": [
      "Trend is bearish\n"
     ]
    }
   ],
   "source": [
    "if price_open > price_close :\n",
    "    print('Trend is bullish')\n",
    "elif price_open < price_close :\n",
    "    print('Trend is bearish')\n",
    "else :\n",
    "    print('Stand aside')"
   ]
  },
  {
   "cell_type": "code",
   "execution_count": 106,
   "id": "54605813-0fe5-4d0e-809d-c69af81b0f6b",
   "metadata": {},
   "outputs": [],
   "source": [
    "prices_aapl_2013 = Prices.iloc[1261:1625, :]"
   ]
  },
  {
   "cell_type": "code",
   "execution_count": 107,
   "id": "67a6f54c-d408-4fd9-9098-051d17f99695",
   "metadata": {},
   "outputs": [
    {
     "data": {
      "text/html": [
       "<div>\n",
       "<style scoped>\n",
       "    .dataframe tbody tr th:only-of-type {\n",
       "        vertical-align: middle;\n",
       "    }\n",
       "\n",
       "    .dataframe tbody tr th {\n",
       "        vertical-align: top;\n",
       "    }\n",
       "\n",
       "    .dataframe thead th {\n",
       "        text-align: right;\n",
       "    }\n",
       "</style>\n",
       "<table border=\"1\" class=\"dataframe\">\n",
       "  <thead>\n",
       "    <tr style=\"text-align: right;\">\n",
       "      <th></th>\n",
       "      <th>date</th>\n",
       "      <th>open</th>\n",
       "      <th>high</th>\n",
       "      <th>low</th>\n",
       "      <th>close</th>\n",
       "      <th>volume</th>\n",
       "      <th>Name</th>\n",
       "    </tr>\n",
       "  </thead>\n",
       "  <tbody>\n",
       "    <tr>\n",
       "      <th>1261</th>\n",
       "      <td>2013-02-12</td>\n",
       "      <td>68.5014</td>\n",
       "      <td>68.9114</td>\n",
       "      <td>66.8205</td>\n",
       "      <td>66.8428</td>\n",
       "      <td>151829363</td>\n",
       "      <td>AAPL</td>\n",
       "    </tr>\n",
       "    <tr>\n",
       "      <th>1262</th>\n",
       "      <td>2013-02-13</td>\n",
       "      <td>66.7442</td>\n",
       "      <td>67.6628</td>\n",
       "      <td>66.1742</td>\n",
       "      <td>66.7156</td>\n",
       "      <td>118721995</td>\n",
       "      <td>AAPL</td>\n",
       "    </tr>\n",
       "    <tr>\n",
       "      <th>1263</th>\n",
       "      <td>2013-02-14</td>\n",
       "      <td>66.3599</td>\n",
       "      <td>67.3771</td>\n",
       "      <td>66.2885</td>\n",
       "      <td>66.6556</td>\n",
       "      <td>88809154</td>\n",
       "      <td>AAPL</td>\n",
       "    </tr>\n",
       "    <tr>\n",
       "      <th>1264</th>\n",
       "      <td>2013-02-15</td>\n",
       "      <td>66.9785</td>\n",
       "      <td>67.1656</td>\n",
       "      <td>65.7028</td>\n",
       "      <td>65.7371</td>\n",
       "      <td>97924631</td>\n",
       "      <td>AAPL</td>\n",
       "    </tr>\n",
       "    <tr>\n",
       "      <th>1265</th>\n",
       "      <td>2013-02-19</td>\n",
       "      <td>65.8714</td>\n",
       "      <td>66.1042</td>\n",
       "      <td>64.8356</td>\n",
       "      <td>65.7128</td>\n",
       "      <td>108854046</td>\n",
       "      <td>AAPL</td>\n",
       "    </tr>\n",
       "  </tbody>\n",
       "</table>\n",
       "</div>"
      ],
      "text/plain": [
       "           date     open     high      low    close     volume  Name\n",
       "1261 2013-02-12  68.5014  68.9114  66.8205  66.8428  151829363  AAPL\n",
       "1262 2013-02-13  66.7442  67.6628  66.1742  66.7156  118721995  AAPL\n",
       "1263 2013-02-14  66.3599  67.3771  66.2885  66.6556   88809154  AAPL\n",
       "1264 2013-02-15  66.9785  67.1656  65.7028  65.7371   97924631  AAPL\n",
       "1265 2013-02-19  65.8714  66.1042  64.8356  65.7128  108854046  AAPL"
      ]
     },
     "execution_count": 107,
     "metadata": {},
     "output_type": "execute_result"
    }
   ],
   "source": [
    "prices_aapl_2013.head()"
   ]
  },
  {
   "cell_type": "code",
   "execution_count": 108,
   "id": "70bba897-b58e-4fee-b0c3-a5eb9c537d54",
   "metadata": {},
   "outputs": [],
   "source": [
    "prices_googl_2013 = Prices.iloc[250309:250675, :]"
   ]
  },
  {
   "cell_type": "code",
   "execution_count": 109,
   "id": "8a582a37-a70c-4190-8de7-11357bd914de",
   "metadata": {},
   "outputs": [],
   "source": [
    "prices_msft_2013 = Prices.iloc[390199:390554, :]"
   ]
  },
  {
   "cell_type": "code",
   "execution_count": 110,
   "id": "97592a7f-46ec-4aa3-8aec-c64adcde4273",
   "metadata": {},
   "outputs": [],
   "source": [
    "prices_amzn_2013 = Prices.iloc[46388:46702, :]"
   ]
  },
  {
   "cell_type": "code",
   "execution_count": 111,
   "id": "26f63700-776a-4319-9797-cd91062f42fb",
   "metadata": {},
   "outputs": [],
   "source": [
    "top_companies = pd.concat([prices_aapl_2013, prices_amzn_2013, prices_googl_2013, prices_msft_2013])"
   ]
  },
  {
   "cell_type": "code",
   "execution_count": 112,
   "id": "eb9a0aa3-f4c0-4126-b842-83024fc1a5ca",
   "metadata": {},
   "outputs": [],
   "source": [
    "sns.set_style('darkgrid')"
   ]
  },
  {
   "cell_type": "code",
   "execution_count": 154,
   "id": "09070e16-4d40-4c55-a478-cee765421797",
   "metadata": {},
   "outputs": [],
   "source": [
    "sns.set_context(\"notebook\")"
   ]
  },
  {
   "cell_type": "code",
   "execution_count": 159,
   "id": "1c333cf6-dca1-4cd9-b7ae-8ab94fbd1803",
   "metadata": {},
   "outputs": [
    {
     "data": {
      "text/plain": [
       "<seaborn.axisgrid.FacetGrid at 0x10027f70>"
      ]
     },
     "execution_count": 159,
     "metadata": {},
     "output_type": "execute_result"
    },
    {
     "data": {
      "image/png": "[encoded data removed]",
      "text/plain": [
       "<Figure size 439.85x360 with 1 Axes>"
      ]
     },
     "metadata": {},
     "output_type": "display_data"
    }
   ],
   "source": [
    "sns.relplot(x='date', y='close',data=top_companies, kind='line',style='Name', hue='Name', dashes=False, palette='bright')"
   ]
  },
  {
   "cell_type": "code",
   "execution_count": 133,
   "id": "00776241-12da-4bbe-9e35-687e93996d6c",
   "metadata": {},
   "outputs": [
    {
     "data": {
      "text/plain": [
       "'Insight: even though the overall trend of SP500 is down, the top 4 copmpanies perform in the relative positive way'"
      ]
     },
     "execution_count": 133,
     "metadata": {},
     "output_type": "execute_result"
    }
   ],
   "source": []
  },
  {
   "cell_type": "code",
   "execution_count": 134,
   "id": "434d7d28-f91f-4cfb-b6fb-a9518ce36dc5",
   "metadata": {},
   "outputs": [],
   "source": [
    "sns.set_style('darkgrid')"
   ]
  },
  {
   "cell_type": "code",
   "execution_count": 146,
   "id": "5936a690-86cc-4a88-b7e3-60936c906048",
   "metadata": {},
   "outputs": [],
   "source": [
    "name_order = ['AMZN', 'GOOGL', 'MSFT', 'AAPL']"
   ]
  },
  {
   "cell_type": "code",
   "execution_count": 149,
   "id": "fa29512f-8b70-4abf-902c-e52458a38fff",
   "metadata": {},
   "outputs": [
    {
     "data": {
      "text/plain": [
       "<seaborn.axisgrid.FacetGrid at 0xfe92e20>"
      ]
     },
     "execution_count": 149,
     "metadata": {},
     "output_type": "execute_result"
    },
    {
     "data": {
      "image/png": "[encoded data removed]",
      "text/plain": [
       "<Figure size 360x360 with 1 Axes>"
      ]
     },
     "metadata": {},
     "output_type": "display_data"
    }
   ],
   "source": [
    "sns.catplot(x='Name', y='volume', data=top_companies, kind='bar', order=name_order)"
   ]
  },
  {
   "cell_type": "code",
   "execution_count": 184,
   "id": "c85c00ad-445a-44ca-819e-333a16d40f50",
   "metadata": {},
   "outputs": [],
   "source": [
    "sns.set_palette('dark')"
   ]
  },
  {
   "cell_type": "code",
   "execution_count": 185,
   "id": "7dc5dd21-2fd8-414d-92ce-b47eb39d3c7a",
   "metadata": {},
   "outputs": [
    {
     "data": {
      "text/plain": [
       "<AxesSubplot:xlabel='Price', ylabel='Price/Earnings'>"
      ]
     },
     "execution_count": 185,
     "metadata": {},
     "output_type": "execute_result"
    },
    {
     "data": {
      "image/png": "[encoded data removed]",
      "text/plain": [
       "<Figure size 432x288 with 1 Axes>"
      ]
     },
     "metadata": {},
     "output_type": "display_data"
    }
   ],
   "source": [
    "sns.scatterplot(x=\"Price\", y=\"Price/Earnings\", data=new_SP500)"
   ]
  },
  {
   "cell_type": "code",
   "execution_count": 186,
   "id": "bac0055f-204a-49c5-8ae1-71705897ad78",
   "metadata": {},
   "outputs": [
    {
     "data": {
      "text/plain": [
       "'Insight: most of the companies are concentrated with P/E = 0 - 100 with price range between 1 and 500 USD per share'"
      ]
     },
     "execution_count": 186,
     "metadata": {},
     "output_type": "execute_result"
    }
   ],
   "source": []
  },
  {
   "cell_type": "code",
   "execution_count": null,
   "id": "48cc1418-0ed0-4225-b0dc-92c70043ca13",
   "metadata": {},
   "outputs": [],
   "source": []
  }
 ],
 "metadata": {
  "kernelspec": {
   "display_name": "Python 3",
   "language": "python",
   "name": "python3"
  },
  "language_info": {
   "codemirror_mode": {
    "name": "ipython",
    "version": 3
   },
   "file_extension": ".py",
   "mimetype": "text/x-python",
   "name": "python",
   "nbconvert_exporter": "python",
   "pygments_lexer": "ipython3",
   "version": "3.8.8"
  },
  "toc-showcode": true
 },
 "nbformat": 4,
 "nbformat_minor": 5
}
